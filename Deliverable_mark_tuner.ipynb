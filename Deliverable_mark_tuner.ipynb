{
 "cells": [
  {
   "cell_type": "markdown",
   "metadata": {
    "id": "SmOp1xwvLDcc"
   },
   "source": [
    "# BA885 Team Project\n",
    "#### Christian Lawrence, Tianzheng Mao, Tiam Moradi, Phoenix Wang"
   ]
  },
  {
   "cell_type": "markdown",
   "metadata": {
    "id": "rX-EXrJsKJoz"
   },
   "source": [
    "To access the dataset, please add the following shared folders to your working directory:\n",
    "* https://tinyurl.com/3cn2zk8u (labeled images)\n",
    "* https://tinyurl.com/ypaf8wtt (unlabeled images)"
   ]
  },
  {
   "cell_type": "markdown",
   "metadata": {
    "id": "vgBH3kJeK-iT"
   },
   "source": [
    "# Environment Setup"
   ]
  },
  {
   "cell_type": "code",
   "execution_count": 52,
   "metadata": {
    "id": "Iex9-JlhnxYs"
   },
   "outputs": [],
   "source": [
    "import numpy as np\n",
    "import pandas as pd\n",
    "import matplotlib.pyplot as plt\n",
    "import tensorflow as tf\n",
    "\n",
    "import PIL\n",
    "import PIL.Image\n",
    "import pathlib\n",
    "import matplotlib.image as mpimg\n",
    "from matplotlib import rcParams\n",
    "from pathlib import Path\n",
    "import pathlib"
   ]
  },
  {
   "cell_type": "markdown",
   "metadata": {
    "id": "oOdGukMWqk-F"
   },
   "source": [
    "# Data Setup"
   ]
  },
  {
   "cell_type": "code",
   "execution_count": 53,
   "metadata": {},
   "outputs": [
    {
     "name": "stdout",
     "output_type": "stream",
     "text": [
      "Found 14034 files belonging to 6 classes.\n",
      "Found 3000 files belonging to 6 classes.\n"
     ]
    }
   ],
   "source": [
    "\n",
    "3"
   ]
  },
  {
   "cell_type": "code",
   "execution_count": null,
   "metadata": {},
   "outputs": [],
   "source": []
  },
  {
   "cell_type": "code",
   "execution_count": 54,
   "metadata": {
    "colab": {
     "base_uri": "https://localhost:8080/"
    },
    "id": "l7WOiifcqjGj",
    "outputId": "4a98cbc5-5f90-41fa-8ac2-bd3cab5937e0"
   },
   "outputs": [],
   "source": [
    "# # load all the labeled images\n",
    "# data_dir = pathlib.Path('Labeled')\n",
    "# print('Total number of labeled images:', len(list(data_dir.glob('*/*.jpg'))))"
   ]
  },
  {
   "cell_type": "code",
   "execution_count": 55,
   "metadata": {
    "colab": {
     "base_uri": "https://localhost:8080/"
    },
    "id": "AnrkzDIBisHe",
    "outputId": "c4b32db2-f0fd-4d1f-b535-9e52da74e226"
   },
   "outputs": [],
   "source": [
    "# shape of each image\n",
    "# tf.keras.preprocessing.image.img_to_array(PIL.Image.open(str(building[0]))).shape"
   ]
  },
  {
   "cell_type": "markdown",
   "metadata": {
    "id": "AmYF3zmWqom6"
   },
   "source": [
    "## Preprocessing"
   ]
  },
  {
   "cell_type": "markdown",
   "metadata": {
    "id": "rp2cMlksj_IV"
   },
   "source": [
    "Use 80% of the images for training and 20% for validation."
   ]
  },
  {
   "cell_type": "code",
   "execution_count": 56,
   "metadata": {
    "id": "uHMf1DfcqsLR"
   },
   "outputs": [],
   "source": [
    "# batch_size = 32\n",
    "# img_height = 150\n",
    "# img_width = 150"
   ]
  },
  {
   "cell_type": "code",
   "execution_count": 57,
   "metadata": {
    "colab": {
     "base_uri": "https://localhost:8080/"
    },
    "id": "aSFOi3vckmu1",
    "outputId": "9df98f2e-1608-47a9-ec6e-a603da20401d"
   },
   "outputs": [],
   "source": [
    "# # generate training set\n",
    "# train_ds = tf.keras.preprocessing.image_dataset_from_directory(\n",
    "#     data_dir,\n",
    "#     validation_split=0.2,\n",
    "#     subset=\"training\",\n",
    "#     seed=885,\n",
    "#     image_size=(img_height, img_width),\n",
    "#     batch_size=batch_size)"
   ]
  },
  {
   "cell_type": "code",
   "execution_count": 58,
   "metadata": {
    "colab": {
     "base_uri": "https://localhost:8080/"
    },
    "id": "PfLtKk4Rj5eC",
    "outputId": "f7ccd9f8-3104-4aea-d48a-8c40b1f4d1dc"
   },
   "outputs": [],
   "source": [
    "# # generate validation set\n",
    "# val_ds = tf.keras.preprocessing.image_dataset_from_directory(\n",
    "#     data_dir,\n",
    "#     validation_split=0.2,\n",
    "#     subset=\"validation\",\n",
    "#     seed=885,\n",
    "#     image_size=(img_height, img_width),\n",
    "#     batch_size=batch_size)"
   ]
  },
  {
   "cell_type": "markdown",
   "metadata": {
    "id": "7E4lG14Wl85n"
   },
   "source": [
    "Each batch contains 32 images of shape `(150, 150, 3)` and their corresponding labels."
   ]
  },
  {
   "cell_type": "code",
   "execution_count": 59,
   "metadata": {
    "colab": {
     "base_uri": "https://localhost:8080/"
    },
    "id": "WMvFiqIilMt8",
    "outputId": "344544e7-a29a-459f-bcbe-eea60791901f"
   },
   "outputs": [
    {
     "name": "stdout",
     "output_type": "stream",
     "text": [
      "(32, 150, 150, 3)\n",
      "(32,)\n"
     ]
    }
   ],
   "source": [
    "# shape of each batch\n",
    "image_batch, label_batch = next(iter(train_ds))\n",
    "print(image_batch.shape)\n",
    "print(label_batch.shape)"
   ]
  },
  {
   "cell_type": "markdown",
   "metadata": {
    "id": "9R_OkiBkm7wF"
   },
   "source": [
    "## Standardization"
   ]
  },
  {
   "cell_type": "markdown",
   "metadata": {
    "id": "ppAj2IsxnH3Q"
   },
   "source": [
    "The RGB channel values are in the `[0, 255]` range. We'll standardize the values to be in the `[0, 1]` range."
   ]
  },
  {
   "cell_type": "code",
   "execution_count": 60,
   "metadata": {
    "colab": {
     "base_uri": "https://localhost:8080/"
    },
    "id": "OrB96JXoo4rH",
    "outputId": "aa4c05cc-e8d5-415e-fb12-fe50440e647f"
   },
   "outputs": [
    {
     "name": "stdout",
     "output_type": "stream",
     "text": [
      "Minimum value: 0.0\n",
      "Maximum value: 255.0\n"
     ]
    }
   ],
   "source": [
    "# value range from 0 to 255\n",
    "image_batch, label_batch = next(iter(train_ds))\n",
    "print('Minimum value:', np.min(image_batch))\n",
    "print('Maximum value:', np.max(image_batch))"
   ]
  },
  {
   "cell_type": "code",
   "execution_count": 61,
   "metadata": {
    "id": "LUk-IQ9MnJUk"
   },
   "outputs": [],
   "source": [
    "standardization = tf.keras.layers.experimental.preprocessing.Rescaling(1/255)\n",
    "train_ds = train_ds.map(lambda x, y: (standardization(x), y))\n",
    "val_ds = val_ds.map(lambda x, y: (standardization(x), y))"
   ]
  },
  {
   "cell_type": "code",
   "execution_count": 62,
   "metadata": {
    "colab": {
     "base_uri": "https://localhost:8080/"
    },
    "id": "P0GZD4PVoOP6",
    "outputId": "a4332c92-e359-4c51-f403-ba4f0baf7b38"
   },
   "outputs": [
    {
     "name": "stdout",
     "output_type": "stream",
     "text": [
      "Minimum value: 0.0\n",
      "Maximum value: 1.0\n"
     ]
    }
   ],
   "source": [
    "# value range from 0 to 1\n",
    "image_batch, label_batch = next(iter(train_ds))\n",
    "print('Minimum value:', np.min(image_batch))\n",
    "print('Maximum value:', np.max(image_batch))"
   ]
  },
  {
   "cell_type": "markdown",
   "metadata": {
    "id": "4Iqtdvo5pcDq"
   },
   "source": [
    "# Model Building and Training"
   ]
  },
  {
   "cell_type": "code",
   "execution_count": 63,
   "metadata": {
    "id": "OUVXHaNQqOZP"
   },
   "outputs": [],
   "source": [
    "# configure performance\n",
    "AUTOTUNE = tf.data.AUTOTUNE\n",
    "train_ds = train_ds.cache().prefetch(buffer_size=AUTOTUNE)\n",
    "val_ds = val_ds.cache().prefetch(buffer_size=AUTOTUNE)"
   ]
  },
  {
   "cell_type": "markdown",
   "metadata": {
    "id": "TBAT7Z-m-umF"
   },
   "source": [
    "# Model tuning"
   ]
  },
  {
   "cell_type": "code",
   "execution_count": 64,
   "metadata": {
    "id": "4Ge7E5ZB-xGA"
   },
   "outputs": [],
   "source": [
    "def build_model(hp):  \n",
    "  model = keras.Sequential([\n",
    "    keras.layers.Conv2D(\n",
    "        filters=hp.Int('conv_1_filter', min_value=16, max_value=64, step=16),\n",
    "        kernel_size=hp.Choice('conv_1_kernel', values = [3,8]),\n",
    "        activation='relu'\n",
    "    ),\n",
    "    keras.layers.MaxPooling2D(),\n",
    "    keras.layers.Conv2D(\n",
    "        filters=hp.Int('conv_2_filter', min_value=16, max_value=64, step=16),\n",
    "        kernel_size=hp.Choice('conv_2_kernel', values = [3,5]),\n",
    "        activation='relu'\n",
    "    ),\n",
    "    keras.layers.MaxPooling2D(),\n",
    "    keras.layers.Conv2D(\n",
    "        filters=hp.Int('conv_3_filter', min_value=8, max_value=16, step=2),\n",
    "        kernel_size=hp.Choice('conv_3_kernel', values = [3,5]),\n",
    "        activation='relu'\n",
    "    ),\n",
    "    keras.layers.MaxPooling2D(),\n",
    "    keras.layers.Flatten(),\n",
    "    keras.layers.Dense(\n",
    "        units=hp.Int('dense_1_units', min_value=8, max_value=16, step=2),\n",
    "        activation='relu'\n",
    "    ),\n",
    "    keras.layers.Dense(10, activation='softmax')\n",
    "  ])\n",
    "  \n",
    "  model.compile(optimizer=keras.optimizers.Adam(hp.Choice('learning_rate', values=[1e-2, 1e-3])),\n",
    "              loss='sparse_categorical_crossentropy',\n",
    "              metrics=['accuracy'])\n",
    "  \n",
    "  return model"
   ]
  },
  {
   "cell_type": "code",
   "execution_count": 65,
   "metadata": {
    "colab": {
     "base_uri": "https://localhost:8080/"
    },
    "id": "Xr-Ea__g-xOR",
    "outputId": "7b62f73d-9eec-461e-e91b-16ebee0ceb13"
   },
   "outputs": [],
   "source": [
    "import keras_tuner\n",
    "from kerastuner import RandomSearch\n",
    "from kerastuner.engine.hyperparameters import HyperParameters\n",
    "from tensorflow import keras"
   ]
  },
  {
   "cell_type": "code",
   "execution_count": 66,
   "metadata": {
    "colab": {
     "base_uri": "https://localhost:8080/"
    },
    "id": "tV-jM3bE-xRx",
    "outputId": "36f67fa9-58cf-43bb-a73b-48e0f981f473"
   },
   "outputs": [],
   "source": [
    "tuner_search=RandomSearch(build_model,\n",
    "                          objective='val_accuracy',\n",
    "                          max_trials=10,directory='output',project_name=\"BA_885\")"
   ]
  },
  {
   "cell_type": "code",
   "execution_count": 67,
   "metadata": {
    "colab": {
     "base_uri": "https://localhost:8080/"
    },
    "id": "8H40-Q9FDcpo",
    "outputId": "3c16194b-3ce7-4066-f54b-ad14632ac0be"
   },
   "outputs": [
    {
     "name": "stdout",
     "output_type": "stream",
     "text": [
      "Trial 10 Complete [00h 00m 51s]\n",
      "val_accuracy: 0.17499999701976776\n",
      "\n",
      "Best val_accuracy So Far: 0.7360000014305115\n",
      "Total elapsed time: 00h 09m 12s\n",
      "INFO:tensorflow:Oracle triggered exit\n"
     ]
    }
   ],
   "source": [
    "stop_early = tf.keras.callbacks.EarlyStopping(monitor='val_loss', patience=2,min_delta=0.0001)\n",
    "tuner_search.search(train_ds, validation_data=val_ds,epochs=5,callbacks=[stop_early])"
   ]
  },
  {
   "cell_type": "code",
   "execution_count": 68,
   "metadata": {
    "id": "EGFf1IxTDcsn"
   },
   "outputs": [],
   "source": [
    "model=tuner_search.get_best_models(num_models=1)[0]"
   ]
  },
  {
   "cell_type": "code",
   "execution_count": 69,
   "metadata": {
    "id": "nQXzVx3cDgi1"
   },
   "outputs": [
    {
     "name": "stdout",
     "output_type": "stream",
     "text": [
      "Model: \"sequential\"\n",
      "_________________________________________________________________\n",
      "Layer (type)                 Output Shape              Param #   \n",
      "=================================================================\n",
      "conv2d (Conv2D)              (32, 143, 143, 32)        6176      \n",
      "_________________________________________________________________\n",
      "max_pooling2d (MaxPooling2D) (32, 71, 71, 32)          0         \n",
      "_________________________________________________________________\n",
      "conv2d_1 (Conv2D)            (32, 69, 69, 16)          4624      \n",
      "_________________________________________________________________\n",
      "max_pooling2d_1 (MaxPooling2 (32, 34, 34, 16)          0         \n",
      "_________________________________________________________________\n",
      "conv2d_2 (Conv2D)            (32, 30, 30, 14)          5614      \n",
      "_________________________________________________________________\n",
      "max_pooling2d_2 (MaxPooling2 (32, 15, 15, 14)          0         \n",
      "_________________________________________________________________\n",
      "flatten (Flatten)            (32, 3150)                0         \n",
      "_________________________________________________________________\n",
      "dense (Dense)                (32, 10)                  31510     \n",
      "_________________________________________________________________\n",
      "dense_1 (Dense)              (32, 10)                  110       \n",
      "=================================================================\n",
      "Total params: 48,034\n",
      "Trainable params: 48,034\n",
      "Non-trainable params: 0\n",
      "_________________________________________________________________\n"
     ]
    }
   ],
   "source": [
    "model.build(image_batch.shape)\n",
    "model.summary()"
   ]
  },
  {
   "cell_type": "code",
   "execution_count": 70,
   "metadata": {},
   "outputs": [
    {
     "name": "stdout",
     "output_type": "stream",
     "text": [
      "Epoch 1/10\n",
      "439/439 [==============================] - 9s 19ms/step - loss: 0.5555 - accuracy: 0.7999 - val_loss: 0.6872 - val_accuracy: 0.7570\n",
      "Epoch 2/10\n",
      "439/439 [==============================] - 8s 19ms/step - loss: 0.5058 - accuracy: 0.8193 - val_loss: 0.7581 - val_accuracy: 0.7450\n",
      "Epoch 3/10\n",
      "439/439 [==============================] - 8s 19ms/step - loss: 0.4596 - accuracy: 0.8381 - val_loss: 0.7470 - val_accuracy: 0.7560\n",
      "Epoch 4/10\n",
      "439/439 [==============================] - 8s 19ms/step - loss: 0.4289 - accuracy: 0.8490 - val_loss: 0.7900 - val_accuracy: 0.7517\n",
      "Epoch 5/10\n",
      "439/439 [==============================] - 8s 19ms/step - loss: 0.3855 - accuracy: 0.8648 - val_loss: 0.9728 - val_accuracy: 0.7250\n",
      "Epoch 6/10\n",
      "439/439 [==============================] - 8s 19ms/step - loss: 0.3723 - accuracy: 0.8674 - val_loss: 0.8593 - val_accuracy: 0.7470\n",
      "Epoch 7/10\n",
      "439/439 [==============================] - 8s 19ms/step - loss: 0.3281 - accuracy: 0.8839 - val_loss: 0.8414 - val_accuracy: 0.7487\n",
      "Epoch 8/10\n",
      "439/439 [==============================] - 8s 19ms/step - loss: 0.3192 - accuracy: 0.8853 - val_loss: 0.8593 - val_accuracy: 0.7573\n",
      "Epoch 9/10\n",
      "439/439 [==============================] - 8s 19ms/step - loss: 0.2935 - accuracy: 0.8948 - val_loss: 0.9289 - val_accuracy: 0.7530\n",
      "Epoch 10/10\n",
      "439/439 [==============================] - 8s 19ms/step - loss: 0.2608 - accuracy: 0.9062 - val_loss: 0.9888 - val_accuracy: 0.7570\n"
     ]
    },
    {
     "data": {
      "text/plain": [
       "<tensorflow.python.keras.callbacks.History at 0x1ef7f6fa100>"
      ]
     },
     "execution_count": 70,
     "metadata": {},
     "output_type": "execute_result"
    }
   ],
   "source": [
    "epochs = 10\n",
    "model.fit(train_ds, validation_data=val_ds, epochs=epochs)"
   ]
  },
  {
   "cell_type": "code",
   "execution_count": null,
   "metadata": {},
   "outputs": [],
   "source": []
  }
 ],
 "metadata": {
  "accelerator": "GPU",
  "colab": {
   "collapsed_sections": [],
   "name": "phoenix.ipynb",
   "provenance": []
  },
  "kernelspec": {
   "display_name": "Python 3 (ipykernel)",
   "language": "python",
   "name": "python3"
  },
  "language_info": {
   "codemirror_mode": {
    "name": "ipython",
    "version": 3
   },
   "file_extension": ".py",
   "mimetype": "text/x-python",
   "name": "python",
   "nbconvert_exporter": "python",
   "pygments_lexer": "ipython3",
   "version": "3.9.6"
  }
 },
 "nbformat": 4,
 "nbformat_minor": 1
}
