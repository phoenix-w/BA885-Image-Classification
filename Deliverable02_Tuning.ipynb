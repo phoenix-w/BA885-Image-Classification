{
 "cells": [
  {
   "cell_type": "markdown",
   "source": [
    "# BA885 Team Project\n",
    "#### Christian Lawrence, Tianzheng Mao, Tiam Moradi, Phoenix Wang"
   ],
   "metadata": {
    "id": "SmOp1xwvLDcc"
   }
  },
  {
   "cell_type": "markdown",
   "source": [
    "To access the dataset, please add the following shared folders to your working directory:\n",
    "* https://tinyurl.com/3cn2zk8u (labeled images)\n",
    "* https://tinyurl.com/ypaf8wtt (unlabeled images)"
   ],
   "metadata": {
    "id": "rX-EXrJsKJoz"
   }
  },
  {
   "cell_type": "markdown",
   "source": [
    "# Environment Setup"
   ],
   "metadata": {
    "id": "vgBH3kJeK-iT"
   }
  },
  {
   "cell_type": "code",
   "execution_count": null,
   "source": [
    "import numpy as np\r\n",
    "import pandas as pd\r\n",
    "import matplotlib.pyplot as plt\r\n",
    "import tensorflow as tf\r\n",
    "\r\n",
    "import PIL\r\n",
    "import PIL.Image\r\n",
    "import pathlib\r\n",
    "import matplotlib.image as mpimg\r\n",
    "from matplotlib import rcParams\r\n",
    "from pathlib import Path\r\n",
    "import pathlib"
   ],
   "outputs": [],
   "metadata": {
    "id": "Iex9-JlhnxYs"
   }
  },
  {
   "cell_type": "markdown",
   "source": [
    "# Data Setup"
   ],
   "metadata": {
    "id": "oOdGukMWqk-F"
   }
  },
  {
   "cell_type": "code",
   "execution_count": 2,
   "source": [
    "# load all the labeled images\r\n",
    "data_dir = pathlib.Path('Labeled')"
   ],
   "outputs": [],
   "metadata": {
    "colab": {
     "base_uri": "https://localhost:8080/"
    },
    "id": "l7WOiifcqjGj",
    "outputId": "4a98cbc5-5f90-41fa-8ac2-bd3cab5937e0"
   }
  },
  {
   "cell_type": "markdown",
   "source": [
    "## Preprocessing"
   ],
   "metadata": {
    "id": "AmYF3zmWqom6"
   }
  },
  {
   "cell_type": "markdown",
   "source": [
    "Use 80% of the images for training and 20% for validation."
   ],
   "metadata": {
    "id": "rp2cMlksj_IV"
   }
  },
  {
   "cell_type": "code",
   "execution_count": 3,
   "source": [
    "batch_size = 32\r\n",
    "img_height = 150\r\n",
    "img_width = 150"
   ],
   "outputs": [],
   "metadata": {
    "id": "uHMf1DfcqsLR"
   }
  },
  {
   "cell_type": "code",
   "execution_count": 4,
   "source": [
    "# generate training set\r\n",
    "train_ds = tf.keras.preprocessing.image_dataset_from_directory(\r\n",
    "    data_dir,\r\n",
    "    validation_split=0.2,\r\n",
    "    subset=\"training\",\r\n",
    "    seed=885,\r\n",
    "    image_size=(img_height, img_width),\r\n",
    "    batch_size=batch_size)"
   ],
   "outputs": [
    {
     "output_type": "stream",
     "name": "stdout",
     "text": [
      "Found 17034 files belonging to 6 classes.\n",
      "Using 13628 files for training.\n"
     ]
    }
   ],
   "metadata": {
    "colab": {
     "base_uri": "https://localhost:8080/"
    },
    "id": "aSFOi3vckmu1",
    "outputId": "9df98f2e-1608-47a9-ec6e-a603da20401d"
   }
  },
  {
   "cell_type": "code",
   "execution_count": 5,
   "source": [
    "# generate validation set\r\n",
    "val_ds = tf.keras.preprocessing.image_dataset_from_directory(\r\n",
    "    data_dir,\r\n",
    "    validation_split=0.2,\r\n",
    "    subset=\"validation\",\r\n",
    "    seed=885,\r\n",
    "    image_size=(img_height, img_width),\r\n",
    "    batch_size=batch_size)"
   ],
   "outputs": [
    {
     "output_type": "stream",
     "name": "stdout",
     "text": [
      "Found 17034 files belonging to 6 classes.\n",
      "Using 3406 files for validation.\n"
     ]
    }
   ],
   "metadata": {
    "colab": {
     "base_uri": "https://localhost:8080/"
    },
    "id": "PfLtKk4Rj5eC",
    "outputId": "f7ccd9f8-3104-4aea-d48a-8c40b1f4d1dc"
   }
  },
  {
   "cell_type": "markdown",
   "source": [
    "Each batch contains 32 images of shape `(150, 150, 3)` and their corresponding labels."
   ],
   "metadata": {
    "id": "7E4lG14Wl85n"
   }
  },
  {
   "cell_type": "code",
   "execution_count": 6,
   "source": [
    "# shape of each batch\r\n",
    "image_batch, label_batch = next(iter(train_ds))\r\n",
    "print(image_batch.shape)\r\n",
    "print(label_batch.shape)"
   ],
   "outputs": [
    {
     "output_type": "stream",
     "name": "stdout",
     "text": [
      "(32, 150, 150, 3)\n",
      "(32,)\n"
     ]
    }
   ],
   "metadata": {
    "colab": {
     "base_uri": "https://localhost:8080/"
    },
    "id": "WMvFiqIilMt8",
    "outputId": "344544e7-a29a-459f-bcbe-eea60791901f"
   }
  },
  {
   "cell_type": "markdown",
   "source": [
    "## Rescaling"
   ],
   "metadata": {
    "id": "9R_OkiBkm7wF"
   }
  },
  {
   "cell_type": "markdown",
   "source": [
    "The RGB channel values are in the `[0, 255]` range. We'll rescale the values to be in the `[0, 1]` range."
   ],
   "metadata": {
    "id": "ppAj2IsxnH3Q"
   }
  },
  {
   "cell_type": "code",
   "execution_count": 11,
   "source": [
    "# value range from 0 to 255\r\n",
    "image_batch, label_batch = next(iter(train_ds))\r\n",
    "print('Minimum value:', np.min(image_batch))\r\n",
    "print('Maximum value:', np.max(image_batch))"
   ],
   "outputs": [
    {
     "output_type": "stream",
     "name": "stdout",
     "text": [
      "Minimum value: 0.0\n",
      "Maximum value: 255.0\n"
     ]
    }
   ],
   "metadata": {
    "colab": {
     "base_uri": "https://localhost:8080/"
    },
    "id": "OrB96JXoo4rH",
    "outputId": "aa4c05cc-e8d5-415e-fb12-fe50440e647f"
   }
  },
  {
   "cell_type": "code",
   "execution_count": 12,
   "source": [
    "standardization = tf.keras.layers.experimental.preprocessing.Rescaling(1/255)\r\n",
    "train_ds = train_ds.map(lambda x, y: (standardization(x), y))\r\n",
    "val_ds = val_ds.map(lambda x, y: (standardization(x), y))"
   ],
   "outputs": [],
   "metadata": {
    "id": "LUk-IQ9MnJUk"
   }
  },
  {
   "cell_type": "code",
   "execution_count": 13,
   "source": [
    "# value range from 0 to 1\r\n",
    "image_batch, label_batch = next(iter(train_ds))\r\n",
    "print('Minimum value:', np.min(image_batch))\r\n",
    "print('Maximum value:', np.max(image_batch))"
   ],
   "outputs": [
    {
     "output_type": "stream",
     "name": "stdout",
     "text": [
      "Minimum value: 0.0\n",
      "Maximum value: 1.0\n"
     ]
    }
   ],
   "metadata": {
    "colab": {
     "base_uri": "https://localhost:8080/"
    },
    "id": "P0GZD4PVoOP6",
    "outputId": "a4332c92-e359-4c51-f403-ba4f0baf7b38"
   }
  },
  {
   "cell_type": "markdown",
   "source": [
    "# Model Building and Training"
   ],
   "metadata": {
    "id": "4Iqtdvo5pcDq"
   }
  },
  {
   "cell_type": "code",
   "execution_count": 14,
   "source": [
    "# configure performance\r\n",
    "AUTOTUNE = tf.data.AUTOTUNE\r\n",
    "train_ds = train_ds.cache().prefetch(buffer_size=AUTOTUNE)\r\n",
    "val_ds = val_ds.cache().prefetch(buffer_size=AUTOTUNE)"
   ],
   "outputs": [],
   "metadata": {
    "id": "OUVXHaNQqOZP"
   }
  },
  {
   "cell_type": "markdown",
   "source": [
    "# Model tuning"
   ],
   "metadata": {
    "id": "TBAT7Z-m-umF"
   }
  },
  {
   "cell_type": "code",
   "execution_count": 15,
   "source": [
    "def build_model(hp):  \r\n",
    "  model = keras.Sequential([\r\n",
    "    keras.layers.Conv2D(\r\n",
    "        filters=hp.Int('conv_1_filter', min_value=16, max_value=64, step=16),\r\n",
    "        kernel_size=hp.Choice('conv_1_kernel', values = [3,8]),\r\n",
    "        activation='relu'\r\n",
    "    ),\r\n",
    "    keras.layers.MaxPooling2D(),\r\n",
    "    keras.layers.Conv2D(\r\n",
    "        filters=hp.Int('conv_2_filter', min_value=16, max_value=64, step=16),\r\n",
    "        kernel_size=hp.Choice('conv_2_kernel', values = [3,5]),\r\n",
    "        activation='relu'\r\n",
    "    ),\r\n",
    "    keras.layers.MaxPooling2D(),\r\n",
    "    keras.layers.Conv2D(\r\n",
    "        filters=hp.Int('conv_3_filter', min_value=8, max_value=16, step=2),\r\n",
    "        kernel_size=hp.Choice('conv_3_kernel', values = [3,5]),\r\n",
    "        activation='relu'\r\n",
    "    ),\r\n",
    "    keras.layers.MaxPooling2D(),\r\n",
    "    keras.layers.Flatten(),\r\n",
    "    keras.layers.Dense(\r\n",
    "        units=hp.Int('dense_1_units', min_value=8, max_value=16, step=2),\r\n",
    "        activation='relu'\r\n",
    "    ),\r\n",
    "    keras.layers.Dense(10, activation='softmax')\r\n",
    "  ])\r\n",
    "  \r\n",
    "  model.compile(optimizer=keras.optimizers.Adam(hp.Choice('learning_rate', values=[1e-2, 1e-3])),\r\n",
    "              loss='sparse_categorical_crossentropy',\r\n",
    "              metrics=['accuracy'])\r\n",
    "  \r\n",
    "  return model"
   ],
   "outputs": [],
   "metadata": {
    "id": "4Ge7E5ZB-xGA"
   }
  },
  {
   "cell_type": "code",
   "execution_count": 17,
   "source": [
    "import keras_tuner\r\n",
    "from keras_tuner import RandomSearch\r\n",
    "from keras_tuner.engine.hyperparameters import HyperParameters\r\n",
    "from tensorflow import keras"
   ],
   "outputs": [],
   "metadata": {
    "colab": {
     "base_uri": "https://localhost:8080/"
    },
    "id": "Xr-Ea__g-xOR",
    "outputId": "7b62f73d-9eec-461e-e91b-16ebee0ceb13"
   }
  },
  {
   "cell_type": "code",
   "execution_count": 20,
   "source": [
    "tuner_search=RandomSearch(build_model,\r\n",
    "                          objective='val_accuracy',\r\n",
    "                          max_trials=10,directory='output',project_name=\"BA_885\")"
   ],
   "outputs": [],
   "metadata": {
    "colab": {
     "base_uri": "https://localhost:8080/"
    },
    "id": "tV-jM3bE-xRx",
    "outputId": "36f67fa9-58cf-43bb-a73b-48e0f981f473"
   }
  },
  {
   "cell_type": "code",
   "execution_count": 21,
   "source": [
    "stop_early = tf.keras.callbacks.EarlyStopping(monitor='val_loss', patience=2,min_delta=0.0001)\r\n",
    "tuner_search.search(train_ds, validation_data=val_ds,epochs=5,callbacks=[stop_early])"
   ],
   "outputs": [
    {
     "output_type": "stream",
     "name": "stdout",
     "text": [
      "Trial 10 Complete [00h 00m 53s]\n",
      "val_accuracy: 0.7960000038146973\n",
      "\n",
      "Best val_accuracy So Far: 0.7960000038146973\n",
      "Total elapsed time: 00h 08m 55s\n",
      "INFO:tensorflow:Oracle triggered exit\n"
     ]
    }
   ],
   "metadata": {
    "colab": {
     "base_uri": "https://localhost:8080/"
    },
    "id": "8H40-Q9FDcpo",
    "outputId": "3c16194b-3ce7-4066-f54b-ad14632ac0be"
   }
  },
  {
   "cell_type": "code",
   "execution_count": 22,
   "source": [
    "model=tuner_search.get_best_models(num_models=1)[0]"
   ],
   "outputs": [],
   "metadata": {
    "id": "EGFf1IxTDcsn"
   }
  },
  {
   "cell_type": "code",
   "execution_count": 23,
   "source": [
    "model.build(image_batch.shape)\r\n",
    "model.summary()"
   ],
   "outputs": [
    {
     "output_type": "stream",
     "name": "stdout",
     "text": [
      "Model: \"sequential\"\n",
      "_________________________________________________________________\n",
      "Layer (type)                 Output Shape              Param #   \n",
      "=================================================================\n",
      "conv2d (Conv2D)              (32, 148, 148, 32)        896       \n",
      "_________________________________________________________________\n",
      "max_pooling2d (MaxPooling2D) (32, 74, 74, 32)          0         \n",
      "_________________________________________________________________\n",
      "conv2d_1 (Conv2D)            (32, 70, 70, 48)          38448     \n",
      "_________________________________________________________________\n",
      "max_pooling2d_1 (MaxPooling2 (32, 35, 35, 48)          0         \n",
      "_________________________________________________________________\n",
      "conv2d_2 (Conv2D)            (32, 31, 31, 10)          12010     \n",
      "_________________________________________________________________\n",
      "max_pooling2d_2 (MaxPooling2 (32, 15, 15, 10)          0         \n",
      "_________________________________________________________________\n",
      "flatten (Flatten)            (32, 2250)                0         \n",
      "_________________________________________________________________\n",
      "dense (Dense)                (32, 14)                  31514     \n",
      "_________________________________________________________________\n",
      "dense_1 (Dense)              (32, 10)                  150       \n",
      "=================================================================\n",
      "Total params: 83,018\n",
      "Trainable params: 83,018\n",
      "Non-trainable params: 0\n",
      "_________________________________________________________________\n"
     ]
    }
   ],
   "metadata": {
    "id": "nQXzVx3cDgi1"
   }
  },
  {
   "cell_type": "code",
   "execution_count": 24,
   "source": [
    "epochs = 10\r\n",
    "history=model.fit(train_ds, validation_data=val_ds, epochs=epochs)"
   ],
   "outputs": [
    {
     "output_type": "stream",
     "name": "stdout",
     "text": [
      "Epoch 1/10\n",
      "439/439 [==============================] - 11s 24ms/step - loss: 0.5290 - accuracy: 0.8089 - val_loss: 0.5703 - val_accuracy: 0.7920\n",
      "Epoch 2/10\n",
      "439/439 [==============================] - 10s 24ms/step - loss: 0.4771 - accuracy: 0.8287 - val_loss: 0.5531 - val_accuracy: 0.8043\n",
      "Epoch 3/10\n",
      "439/439 [==============================] - 10s 24ms/step - loss: 0.4397 - accuracy: 0.8426 - val_loss: 0.5744 - val_accuracy: 0.8027\n",
      "Epoch 4/10\n",
      "439/439 [==============================] - 11s 24ms/step - loss: 0.4155 - accuracy: 0.8516 - val_loss: 0.5735 - val_accuracy: 0.8067\n",
      "Epoch 5/10\n",
      "439/439 [==============================] - 10s 24ms/step - loss: 0.3882 - accuracy: 0.8627 - val_loss: 0.5507 - val_accuracy: 0.8117\n",
      "Epoch 6/10\n",
      "439/439 [==============================] - 10s 24ms/step - loss: 0.3601 - accuracy: 0.8722 - val_loss: 0.5634 - val_accuracy: 0.8187\n",
      "Epoch 7/10\n",
      "439/439 [==============================] - 10s 24ms/step - loss: 0.3416 - accuracy: 0.8762 - val_loss: 0.5991 - val_accuracy: 0.8053\n",
      "Epoch 8/10\n",
      "439/439 [==============================] - 10s 24ms/step - loss: 0.3291 - accuracy: 0.8812 - val_loss: 0.6404 - val_accuracy: 0.7987\n",
      "Epoch 9/10\n",
      "439/439 [==============================] - 10s 24ms/step - loss: 0.3163 - accuracy: 0.8855 - val_loss: 0.6710 - val_accuracy: 0.7897\n",
      "Epoch 10/10\n",
      "439/439 [==============================] - 11s 24ms/step - loss: 0.2944 - accuracy: 0.8945 - val_loss: 0.7826 - val_accuracy: 0.7713\n"
     ]
    }
   ],
   "metadata": {}
  },
  {
   "cell_type": "code",
   "execution_count": 26,
   "source": [
    "import seaborn as sns"
   ],
   "outputs": [],
   "metadata": {}
  },
  {
   "cell_type": "code",
   "execution_count": 29,
   "source": [
    "# Here is the code to visualize the loss values\r\n",
    "sns.lineplot(x=range(1,11),y=history.history['loss'])\r\n",
    "sns.lineplot(x=range(1,11),y=history.history['val_loss'])\r\n",
    "plt.legend(loc='upper right',labels=['loss','val_loss'])\r\n",
    "plt.title('Epochs vs Loss')\r\n",
    "plt.xlabel('Epoch')\r\n",
    "plt.ylabel('Loss') \r\n",
    "plt.xticks(ticks=range(1,21));"
   ],
   "outputs": [
    {
     "output_type": "display_data",
     "data": {
      "text/plain": [
       "<Figure size 432x288 with 1 Axes>"
      ],
      "image/png": "[encoded data removed]"
     },
     "metadata": {
      "needs_background": "light"
     }
    }
   ],
   "metadata": {}
  },
  {
   "cell_type": "code",
   "execution_count": 30,
   "source": [
    "# Here is the code to visualize the accuracy values \r\n",
    "sns.lineplot(x=range(1,11),y=history.history['accuracy'])\r\n",
    "sns.lineplot(x=range(1,11),y=history.history['val_accuracy'])\r\n",
    "plt.legend(loc='lower right',labels=['accuracy','val_accuracy'])\r\n",
    "plt.title('Epochs vs Accuracy')\r\n",
    "plt.xlabel('Epoch')\r\n",
    "plt.ylabel('Accuracy') \r\n",
    "plt.xticks(ticks=range(1,21));"
   ],
   "outputs": [
    {
     "output_type": "display_data",
     "data": {
      "text/plain": [
       "<Figure size 432x288 with 1 Axes>"
      ],
      "image/png": "[encoded data removed]"
     },
     "metadata": {
      "needs_background": "light"
     }
    }
   ],
   "metadata": {}
  },
  {
   "cell_type": "code",
   "execution_count": 48,
   "source": [
    "val_true_labels = []\r\n",
    "val_pred_labels = []\r\n",
    "for x , y in val_ds:\r\n",
    "    y_pred = model.predict_on_batch(x)\r\n",
    "    y_pred = np.argmax(y_pred,axis=1).tolist()\r\n",
    "    val_pred_labels.extend(y_pred)\r\n",
    "    # print(y)\r\n",
    "    # y_ = np.argmax(y,axis=1).tolist()\r\n",
    "    val_true_labels.extend(y)"
   ],
   "outputs": [
    {
     "output_type": "stream",
     "name": "stdout",
     "text": [
      "tf.Tensor([5 3 5 2 1 2 2 4 0 4 3 1 2 4 0 5 5 0 0 4 0 5 5 0 0 2 3 1 2 4 0 0], shape=(32,), dtype=int32)\n",
      "tf.Tensor([4 1 4 3 4 1 2 5 1 5 2 1 0 4 5 4 0 4 2 5 4 0 0 4 3 3 5 5 3 5 4 1], shape=(32,), dtype=int32)\n",
      "tf.Tensor([0 5 5 5 0 4 1 4 5 2 0 2 5 3 5 2 2 0 2 1 4 2 3 2 2 0 1 4 0 0 3 3], shape=(32,), dtype=int32)\n",
      "tf.Tensor([3 2 1 5 4 4 1 3 2 1 3 4 3 2 1 0 1 1 1 5 1 4 4 1 3 2 4 1 4 3 0 5], shape=(32,), dtype=int32)\n",
      "tf.Tensor([3 3 3 0 0 1 5 3 4 1 2 2 2 5 0 5 5 4 0 4 1 2 1 0 5 1 2 3 4 3 0 4], shape=(32,), dtype=int32)\n",
      "tf.Tensor([5 1 2 3 5 4 1 5 4 5 4 2 2 1 5 5 5 5 3 0 2 3 4 2 1 0 1 2 5 4 3 4], shape=(32,), dtype=int32)\n",
      "tf.Tensor([3 4 3 5 2 1 3 3 0 4 2 1 3 2 0 5 2 0 5 1 2 4 2 5 0 0 2 1 2 4 3 5], shape=(32,), dtype=int32)\n",
      "tf.Tensor([1 1 0 3 1 5 2 0 5 1 0 4 4 4 4 0 2 5 5 0 2 4 3 4 2 5 4 0 1 5 3 1], shape=(32,), dtype=int32)\n",
      "tf.Tensor([2 4 3 3 0 1 0 5 1 0 3 3 4 1 0 3 5 3 1 0 2 5 0 1 4 1 5 2 0 3 3 0], shape=(32,), dtype=int32)\n",
      "tf.Tensor([0 4 0 5 5 4 1 4 0 0 2 3 3 3 0 0 3 4 2 3 3 4 2 5 5 4 3 1 0 3 4 5], shape=(32,), dtype=int32)\n",
      "tf.Tensor([4 4 5 1 3 4 2 1 5 3 5 2 2 0 5 3 5 0 3 4 2 4 4 3 5 5 2 2 4 3 4 3], shape=(32,), dtype=int32)\n",
      "tf.Tensor([5 2 0 2 2 5 0 3 5 5 5 3 2 5 1 1 4 5 5 5 0 3 4 3 2 2 5 3 0 4 5 2], shape=(32,), dtype=int32)\n",
      "tf.Tensor([3 0 3 3 1 0 1 4 5 5 0 0 1 1 2 4 3 1 4 0 0 5 2 0 5 1 1 0 2 5 1 2], shape=(32,), dtype=int32)\n",
      "tf.Tensor([3 2 4 5 0 3 0 4 2 1 1 4 5 0 5 5 0 4 2 3 1 4 5 2 1 3 1 1 3 5 3 2], shape=(32,), dtype=int32)\n",
      "tf.Tensor([2 3 5 2 0 1 4 2 4 0 3 1 1 0 4 3 2 5 2 1 1 5 4 5 4 5 5 5 5 2 3 3], shape=(32,), dtype=int32)\n",
      "tf.Tensor([4 2 5 4 1 0 2 4 4 1 4 2 0 4 1 0 1 4 4 0 3 0 0 0 1 3 2 3 5 3 3 3], shape=(32,), dtype=int32)\n",
      "tf.Tensor([0 3 4 1 2 5 1 4 4 0 2 2 2 4 0 3 4 0 2 5 4 3 1 3 3 3 1 5 4 3 4 0], shape=(32,), dtype=int32)\n",
      "tf.Tensor([2 5 2 2 1 0 5 0 1 3 2 2 4 4 1 1 2 3 2 1 0 2 2 3 4 0 4 5 1 3 1 1], shape=(32,), dtype=int32)\n",
      "tf.Tensor([3 3 1 4 4 2 3 4 2 3 5 1 1 2 4 3 3 0 3 3 2 4 2 2 3 2 3 5 2 1 3 1], shape=(32,), dtype=int32)\n",
      "tf.Tensor([4 5 5 3 3 2 1 5 1 4 5 3 1 3 2 0 2 1 0 1 5 0 2 5 4 2 5 5 4 4 5 0], shape=(32,), dtype=int32)\n",
      "tf.Tensor([5 3 2 1 4 2 4 0 4 4 3 5 1 3 4 3 1 1 0 4 5 5 1 1 4 1 1 0 3 3 3 5], shape=(32,), dtype=int32)\n",
      "tf.Tensor([2 2 3 5 4 1 1 5 5 2 1 2 1 1 4 2 1 1 3 1 4 4 4 4 5 5 3 5 2 3 1 3], shape=(32,), dtype=int32)\n",
      "tf.Tensor([4 4 3 4 1 5 2 2 5 2 3 2 5 4 4 4 2 5 3 2 5 5 0 0 3 2 3 1 3 4 1 5], shape=(32,), dtype=int32)\n",
      "tf.Tensor([3 3 0 3 3 1 2 1 4 1 5 3 2 0 5 0 4 0 5 3 4 1 0 0 0 3 2 0 0 3 2 4], shape=(32,), dtype=int32)\n",
      "tf.Tensor([0 0 1 2 3 0 3 4 2 4 0 4 3 2 5 2 3 2 4 1 4 2 5 5 4 2 4 2 1 1 4 4], shape=(32,), dtype=int32)\n",
      "tf.Tensor([3 1 3 2 5 5 3 0 2 1 3 1 4 0 1 0 2 4 3 5 2 1 0 4 5 0 5 5 3 2 4 2], shape=(32,), dtype=int32)\n",
      "tf.Tensor([3 2 2 2 3 5 0 2 2 0 3 4 3 2 0 2 3 3 0 3 5 4 3 2 5 2 2 3 4 5 0 2], shape=(32,), dtype=int32)\n",
      "tf.Tensor([3 4 2 2 0 1 1 5 5 0 2 1 2 0 2 4 5 2 4 4 5 5 3 3 1 2 1 3 3 4 1 2], shape=(32,), dtype=int32)\n",
      "tf.Tensor([5 0 0 5 2 0 4 1 3 2 5 3 3 4 5 0 2 1 2 0 1 4 5 5 4 4 1 0 5 0 4 0], shape=(32,), dtype=int32)\n",
      "tf.Tensor([1 0 3 4 3 4 4 3 2 2 1 3 5 2 4 4 1 3 3 2 1 2 2 3 1 2 3 2 2 2 1 2], shape=(32,), dtype=int32)\n",
      "tf.Tensor([3 0 2 4 5 4 2 2 0 0 3 2 4 4 2 4 5 0 4 3 4 5 1 2 0 4 3 4 5 0 2 3], shape=(32,), dtype=int32)\n",
      "tf.Tensor([0 4 4 2 2 5 5 4 2 4 5 0 5 0 3 1 0 2 5 3 2 2 5 0 2 4 3 4 4 0 3 0], shape=(32,), dtype=int32)\n",
      "tf.Tensor([5 3 5 5 0 5 2 2 3 4 5 1 5 2 4 1 1 3 2 1 3 1 5 3 3 5 4 0 1 3 2 0], shape=(32,), dtype=int32)\n",
      "tf.Tensor([1 3 3 2 3 0 5 1 4 5 3 5 2 1 2 0 0 0 3 2 1 2 3 0 4 4 4 1 3 1 1 4], shape=(32,), dtype=int32)\n",
      "tf.Tensor([3 2 5 0 2 0 0 2 0 1 3 0 2 1 1 2 3 3 2 1 2 3 3 5 3 2 0 5 0 4 5 0], shape=(32,), dtype=int32)\n",
      "tf.Tensor([4 2 1 3 2 4 2 1 0 2 4 3 3 0 5 5 3 3 4 5 3 1 4 5 0 1 4 5 5 1 5 4], shape=(32,), dtype=int32)\n",
      "tf.Tensor([3 2 5 5 0 3 1 4 5 0 4 3 5 0 4 4 2 3 3 5 4 1 4 5 1 1 2 5 0 1 1 1], shape=(32,), dtype=int32)\n",
      "tf.Tensor([5 4 3 4 4 5 1 4 1 4 3 3 2 3 2 5 1 4 5 0 3 4 4 0 2 5 5 5 2 2 1 0], shape=(32,), dtype=int32)\n",
      "tf.Tensor([0 1 3 1 3 2 1 5 0 1 1 4 2 1 2 2 1 5 5 4 0 3 5 2 4 3 2 4 3 5 4 3], shape=(32,), dtype=int32)\n",
      "tf.Tensor([2 2 5 5 1 5 1 4 1 4 0 5 1 0 0 1 3 0 4 3 4 3 1 0 2 5 0 5 2 4 3 2], shape=(32,), dtype=int32)\n",
      "tf.Tensor([5 3 4 5 0 2 1 4 2 0 3 5 2 5 0 3 5 2 5 5 0 1 2 0 0 2 5 4 4 1 2 1], shape=(32,), dtype=int32)\n",
      "tf.Tensor([4 4 4 2 2 3 1 0 3 2 0 1 2 1 2 0 3 4 1 0 3 4 5 0 1 4 0 4 3 3 3 0], shape=(32,), dtype=int32)\n",
      "tf.Tensor([0 0 3 0 4 4 4 1 3 0 0 4 0 1 3 5 5 2 3 2 4 5 4 4 4 5 1 3 5 1 0 3], shape=(32,), dtype=int32)\n",
      "tf.Tensor([2 1 4 5 3 0 2 3 2 1 4 4 3 0 0 4 3 5 5 1 0 4 1 3 3 4 4 5 2 0 4 5], shape=(32,), dtype=int32)\n",
      "tf.Tensor([3 0 3 2 2 3 0 0 3 3 4 5 3 2 2 4 5 5 1 4 5 5 3 2 5 3 4 1 1 4 5 5], shape=(32,), dtype=int32)\n",
      "tf.Tensor([4 5 2 5 5 0 5 4 3 3 0 4 0 0 1 4 2 4 0 2 4 5 1 4 1 2 0 1 2 2 2 0], shape=(32,), dtype=int32)\n",
      "tf.Tensor([0 5 2 4 5 5 0 3 3 2 1 4 5 3 1 1 4 3 0 5 2 3 3 0 1 3 1 0 5 1 4 5], shape=(32,), dtype=int32)\n",
      "tf.Tensor([4 0 5 3 5 1 2 1 5 2 2 0 5 3 1 5 0 2 3 3 2 3 5 3 2 0 3 1 3 1 0 4], shape=(32,), dtype=int32)\n",
      "tf.Tensor([0 2 3 2 1 0 0 0 1 3 5 5 0 5 4 1 4 3 3 2 3 5 1 1 2 0 0 5 3 3 4 4], shape=(32,), dtype=int32)\n",
      "tf.Tensor([3 1 1 3 2 4 1 2 0 3 3 0 3 4 3 3 3 0 2 4 0 5 3 4 0 3 5 2 0 5 3 2], shape=(32,), dtype=int32)\n",
      "tf.Tensor([1 4 3 5 0 3 5 3 5 5 5 4 4 4 2 5 5 4 3 4 4 4 2 0 5 2 5 3 5 2 5 3], shape=(32,), dtype=int32)\n",
      "tf.Tensor([3 3 2 3 0 3 4 3 5 5 0 4 4 5 4 4 2 3 3 5 3 5 3 5 2 3 0 5 1 1 4 4], shape=(32,), dtype=int32)\n",
      "tf.Tensor([2 2 2 5 3 0 3 3 4 1 2 2 1 1 4 5 5 0 3 2 5 2 2 4 0 2 2 1 3 2 3 2], shape=(32,), dtype=int32)\n",
      "tf.Tensor([3 0 1 5 4 2 2 0 5 5 0 1 2 3 4 1 4 3 5 4 5 3 1 2 2 4 2 2 4 5 0 3], shape=(32,), dtype=int32)\n",
      "tf.Tensor([2 2 4 2 3 0 2 1 2 1 0 2 4 5 5 5 1 4 2 0 3 0 1 2 2 3 1 4 5 4 3 4], shape=(32,), dtype=int32)\n",
      "tf.Tensor([2 1 3 0 2 1 0 0 0 5 3 4 5 0 0 5 4 3 1 3 2 0 4 5 3 4 2 4 2 1 5 2], shape=(32,), dtype=int32)\n",
      "tf.Tensor([1 2 0 0 5 3 0 3 3 4 1 4 4 5 3 2 1 1 3 3 3 5 1 5 3 4 4 4 4 2 0 2], shape=(32,), dtype=int32)\n",
      "tf.Tensor([4 4 2 3 5 2 2 4 1 1 3 2 2 5 5 5 1 0 1 1 2 3 5 3 4 2 1 5 0 1 2 2], shape=(32,), dtype=int32)\n",
      "tf.Tensor([1 4 0 0 0 5 4 5 1 0 2 3 2 1 4 2 3 1 3 2 3 1 3 1 3 5 3 5 3 5 0 2], shape=(32,), dtype=int32)\n",
      "tf.Tensor([4 3 0 5 2 4 2 4 1 4 1 2 5 5 3 1 4 2 5 0 4 3 0 3 2 3 2 4 0 2 1 1], shape=(32,), dtype=int32)\n",
      "tf.Tensor([5 3 0 3 0 2 5 1 4 3 1 4 2 2 2 3 2 0 2 4 5 5 4 3 5 3 2 2 2 3 4 5], shape=(32,), dtype=int32)\n",
      "tf.Tensor([5 1 0 3 5 2 0 0 5 1 2 0 1 0 4 2 0 1 1 3 4 5 1 3 0 5 3 1 4 3 0 2], shape=(32,), dtype=int32)\n",
      "tf.Tensor([1 1 5 3 2 0 3 4 0 2 4 0 4 0 3 4 2 4 1 0 0 5 0 2 5 1 0 4 4 2 1 2], shape=(32,), dtype=int32)\n",
      "tf.Tensor([1 0 4 0 3 4 1 1 3 2 0 0 5 4 5 0 1 4 4 5 1 0 0 0 2 1 1 1 3 4 1 1], shape=(32,), dtype=int32)\n",
      "tf.Tensor([5 5 5 3 1 1 2 4 4 4 4 2 4 0 1 0 0 5 4 1 3 4 3 2 0 3 2 5 1 0 1 5], shape=(32,), dtype=int32)\n",
      "tf.Tensor([2 3 1 0 5 5 3 0 2 0 0 1 0 0 5 0 3 5 1 1 3 2 3 5 4 1 0 1 5 3 3 0], shape=(32,), dtype=int32)\n",
      "tf.Tensor([1 3 0 0 0 0 5 3 2 4 2 5 3 5 5 5 2 1 5 0 0 3 4 3 3 0 3 4 2 4 1 2], shape=(32,), dtype=int32)\n",
      "tf.Tensor([1 5 4 3 0 3 3 2 2 2 5 1 4 4 3 2 5 4 0 4 2 0 2 2 0 3 2 4 1 1 1 5], shape=(32,), dtype=int32)\n",
      "tf.Tensor([5 4 2 1 4 3 0 0 0 3 3 4 2 3 3 1 4 2 0 3 1 4 0 5 3 1 3 1 2 3 4 2], shape=(32,), dtype=int32)\n",
      "tf.Tensor([2 3 5 4 0 2 5 1 3 3 1 2 3 5 5 0 5 2 3 5 2 5 3 3 4 1 1 5 5 0 3 0], shape=(32,), dtype=int32)\n",
      "tf.Tensor([5 2 1 5 3 4 4 5 2 3 0 4 3 1 2 2 0 5 2 3 1 5 1 2 2 0 1 2 2 4 5 1], shape=(32,), dtype=int32)\n",
      "tf.Tensor([1 2 5 4 0 2 2 5 4 1 4 5 3 4 1 1 3 2 2 1 2 4 4 5 4 3 2 5 1 4 3 5], shape=(32,), dtype=int32)\n",
      "tf.Tensor([4 2 5 3 2 2 2 0 2 3 2 1 3 0 2 4 0 2 2 3 5 4 2 5 4 1 4 3 0 0 2 0], shape=(32,), dtype=int32)\n",
      "tf.Tensor([3 5 5 4 3 3 3 1 3 0 3 3 5 2 4 3 0 5 5 1 5 4 4 1 1 0 0 1 2 5 1 2], shape=(32,), dtype=int32)\n",
      "tf.Tensor([3 2 2 5 1 1 2 4 5 2 3 3 1 1 4 2 0 5 0 2 3 1 1 0 3 1 3 5 0 4 4 0], shape=(32,), dtype=int32)\n",
      "tf.Tensor([2 4 4 5 2 1 2 0 4 2 2 5 2 1 3 4 1 5 4 1 4 4 3 3 0 1 3 1 4 4 1 0], shape=(32,), dtype=int32)\n",
      "tf.Tensor([4 0 4 2 1 1 3 0 0 1 5 5 0 1 4 1 0 3 4 0 4 4 0 1 2 1 3 3 2 5 2 1], shape=(32,), dtype=int32)\n",
      "tf.Tensor([5 5 2 1 1 1 2 0 1 1 0 1 5 3 4 4 3 2 2 4 1 1 4 5 2 2 4 3 3 2 0 4], shape=(32,), dtype=int32)\n",
      "tf.Tensor([1 1 1 2 4 3 5 4 1 3 3 3 3 4 3 5 4 3 5 0 0 5 5 2 2 1 3 3 1 5 3 5], shape=(32,), dtype=int32)\n",
      "tf.Tensor([2 2 1 2 4 2 5 4 4 1 3 5 2 4 4 0 1 4 1 4 0 4 1 4 0 5 5 3 3 2 1 2], shape=(32,), dtype=int32)\n",
      "tf.Tensor([5 4 4 5 2 5 4 5 3 0 1 5 0 1 3 5 3 3 1 3 1 0 1 2 4 0 3 5 1 3 5 1], shape=(32,), dtype=int32)\n",
      "tf.Tensor([3 2 0 5 3 0 0 3 4 3 2 5 4 3 5 4 1 3 5 1 1 2 0 5 2 3 4 1 5 1 4 4], shape=(32,), dtype=int32)\n",
      "tf.Tensor([2 2 1 1 5 5 5 1 4 5 0 2 2 4 1 2 0 4 2 0 0 0 3 2 0 4 3 2 4 0 5 5], shape=(32,), dtype=int32)\n",
      "tf.Tensor([2 1 1 5 4 2 5 1 5 5 2 5 0 4 2 4 4 4 4 2 5 2 3 3 1 4 3 0 5 2 4 2], shape=(32,), dtype=int32)\n",
      "tf.Tensor([1 4 2 1 5 5 1 1 3 1 2 2 1 5 4 5 1 2 2 1 5 0 0 4 1 0 2 2 2 5 4 1], shape=(32,), dtype=int32)\n",
      "tf.Tensor([2 2 0 2 0 2 4 4 5 3 5 5 4 4 0 0 0 5 5 1 1 4 3 0 3 3 0 2 1 2 5 2], shape=(32,), dtype=int32)\n",
      "tf.Tensor([2 1 1 1 3 0 0 4 5 5 1 3 2 2 2 4 2 2 2 1 4 1 5 1 0 5 3 4 2 1 3 2], shape=(32,), dtype=int32)\n"
     ]
    },
    {
     "output_type": "stream",
     "name": "stdout",
     "text": [
      "tf.Tensor([3 4 3 4 5 2 1 2 3 1 1 4 4 1 5 5 2 1 4 2 3 5 0 3 0 2 2 4 4 1 0 3], shape=(32,), dtype=int32)\n",
      "tf.Tensor([1 5 0 3 5 5 5 4 4 1 2 5 2 2 1 0 3 2 1 4 2 0 1 2 5 1 3 5 0 3 0 5], shape=(32,), dtype=int32)\n",
      "tf.Tensor([3 0 2 3 4 0 2 5 1 2 2 4 2 4 5 2 4 3 0 0 0 0 5 4 0 5 1 1 5 5 5 1], shape=(32,), dtype=int32)\n",
      "tf.Tensor([5 1 4 1 3 0 2 4 3 1 1 2 2 3 0 3 1 1 3 5 0 1 2 3 5 0 3 2 5 0 2 5], shape=(32,), dtype=int32)\n",
      "tf.Tensor([0 5 5 2 2 4 4 2 5 2 3 5 3 4 0 0 2 3 4 2 3 2 1 4 4 1 4 1 0 3 4 2], shape=(32,), dtype=int32)\n",
      "tf.Tensor([3 2 2 3 4 4 3 1 1 3 0 4 0 5 5 3 5 4 2 1 2 2 5 2 1 4 2 4 1 0 1 2], shape=(32,), dtype=int32)\n",
      "tf.Tensor([3 1 2 4 3 4 2 2 4 5 2 1 1 1 5 2 4 2 5 2 2 4 3 5], shape=(24,), dtype=int32)\n"
     ]
    }
   ],
   "metadata": {}
  },
  {
   "cell_type": "code",
   "execution_count": 49,
   "source": [
    "from sklearn.metrics import classification_report\r\n",
    "print(classification_report(val_true_labels,val_pred_labels))"
   ],
   "outputs": [
    {
     "output_type": "stream",
     "name": "stdout",
     "text": [
      "              precision    recall  f1-score   support\n",
      "\n",
      "           0       0.59      0.90      0.72       437\n",
      "           1       0.99      0.80      0.89       474\n",
      "           2       0.70      0.86      0.77       553\n",
      "           3       0.81      0.67      0.73       525\n",
      "           4       0.88      0.76      0.82       510\n",
      "           5       0.82      0.65      0.72       501\n",
      "\n",
      "    accuracy                           0.77      3000\n",
      "   macro avg       0.80      0.77      0.77      3000\n",
      "weighted avg       0.80      0.77      0.77      3000\n",
      "\n"
     ]
    }
   ],
   "metadata": {}
  }
 ],
 "metadata": {
  "accelerator": "GPU",
  "colab": {
   "collapsed_sections": [],
   "name": "phoenix.ipynb",
   "provenance": []
  },
  "kernelspec": {
   "name": "python3",
   "display_name": "Python 3.8.3 64-bit ('base': conda)"
  },
  "language_info": {
   "codemirror_mode": {
    "name": "ipython",
    "version": 3
   },
   "file_extension": ".py",
   "mimetype": "text/x-python",
   "name": "python",
   "nbconvert_exporter": "python",
   "pygments_lexer": "ipython3",
   "version": "3.8.3"
  },
  "interpreter": {
   "hash": "aaf0ccc5cce2dd2255c2003352c497fde59351b66d4871f85065bb13accd41b2"
  }
 },
 "nbformat": 4,
 "nbformat_minor": 1
}